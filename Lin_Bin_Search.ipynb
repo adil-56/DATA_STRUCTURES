{
 "cells": [
  {
   "cell_type": "code",
   "execution_count": 1,
   "id": "727fffe9-279a-4212-ac5d-06faa90a419e",
   "metadata": {},
   "outputs": [
    {
     "name": "stdout",
     "output_type": "stream",
     "text": [
      "Steps taken of Linear = 901\n",
      "Steps taken of Binary = 10\n",
      "Value Found at index 900\n"
     ]
    }
   ],
   "source": [
    "nums = [i for i in range(1000)]\n",
    "target = 900\n",
    "\n",
    "def linearSearch1(nums, target):\n",
    "    steps = 0\n",
    "    for i in range(0,len(nums) - 1):\n",
    "        steps += 1\n",
    "        if nums[i] == target:\n",
    "            print(f\"Steps taken of Linear = {steps}\")\n",
    "            return i\n",
    "    else:\n",
    "        print(f\"Steps taken of Linear = {steps}\")\n",
    "        return -1\n",
    "\n",
    "\n",
    "left = 0\n",
    "right = len(nums) - 1\n",
    "def binarySearch1(nums, target, left, right):\n",
    "    steps = 0\n",
    "    while left <= right:\n",
    "        steps += 1\n",
    "        mid = (left + right) // 2\n",
    "        \n",
    "        if nums[mid] == target:\n",
    "            print(f\"Steps taken of Binary = {steps}\")\n",
    "            return mid\n",
    "        elif nums[mid] < target:\n",
    "            left = mid + 1 \n",
    "        else:\n",
    "            right = mid - 1 \n",
    "    else:\n",
    "        print(f\"Steps taken of Binary = {steps}\")\n",
    "        return -1\n",
    "\n",
    "\n",
    "    \n",
    "result1 = linearSearch1(nums, target)\n",
    "result2 = binarySearch1(nums,target, left, right)\n",
    "if result1 != -1:\n",
    "    print(f\"Value Found at index {result1}\")\n",
    "else:\n",
    "    print(\"Value not found\")"
   ]
  },
  {
   "cell_type": "code",
   "execution_count": 2,
   "id": "a8457008-186b-472b-b117-78e1b3ce8292",
   "metadata": {},
   "outputs": [
    {
     "name": "stdout",
     "output_type": "stream",
     "text": [
      "2\n"
     ]
    }
   ],
   "source": [
    "def linear_search(key, l):\n",
    "    index = 0\n",
    "    while(index < len(l)):\n",
    "        if l[index] == key:\n",
    "            return index\n",
    "        index += 1\n",
    "    return -1\n",
    "\n",
    "key = 5\n",
    "l = [2,3,5,5,1,6,6,7,1]\n",
    "print(linear_search(key,l))"
   ]
  },
  {
   "cell_type": "code",
   "execution_count": 3,
   "id": "020dfa6c-3156-4733-b5af-f4ca4bbb7b5d",
   "metadata": {},
   "outputs": [
    {
     "name": "stdout",
     "output_type": "stream",
     "text": [
      "1\n"
     ]
    }
   ],
   "source": [
    "def binary_search(key,l2):\n",
    "    low = 0\n",
    "    high = len(l2) - 1\n",
    "\n",
    "    while low<=high:\n",
    "        mid = (low + high) //2\n",
    "        if mid==key:\n",
    "            return mid\n",
    "        elif key < mid:\n",
    "            high = mid-1\n",
    "        elif key > mid:\n",
    "            low = mid +1\n",
    "    return -1\n",
    "\n",
    "key = 3\n",
    "l = [2,3,4,5,6,6,7]\n",
    "print(linear_search(key,l))"
   ]
  }
 ],
 "metadata": {
  "kernelspec": {
   "display_name": "Python 3 (ipykernel)",
   "language": "python",
   "name": "python3"
  },
  "language_info": {
   "codemirror_mode": {
    "name": "ipython",
    "version": 3
   },
   "file_extension": ".py",
   "mimetype": "text/x-python",
   "name": "python",
   "nbconvert_exporter": "python",
   "pygments_lexer": "ipython3",
   "version": "3.12.2"
  }
 },
 "nbformat": 4,
 "nbformat_minor": 5
}
