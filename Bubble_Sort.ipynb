{
 "cells": [
  {
   "cell_type": "code",
   "execution_count": 12,
   "id": "d4a7617a-63c9-4cd5-9543-f2623f1b4121",
   "metadata": {},
   "outputs": [
    {
     "name": "stdout",
     "output_type": "stream",
     "text": [
      "Before sorting: [6, 5, 2, 8, 9, 4]\n",
      "\n",
      "\n",
      "After sorting: [5, 2, 6, 8, 4, 9]\n",
      "After sorting: [2, 5, 6, 4, 8, 9]\n",
      "After sorting: [2, 5, 4, 6, 8, 9]\n",
      "After sorting: [2, 4, 5, 6, 8, 9]\n",
      "After sorting: [2, 4, 5, 6, 8, 9]\n",
      "After sorting: [2, 4, 5, 6, 8, 9]\n"
     ]
    }
   ],
   "source": [
    "num = [6, 5, 2, 8, 9, 4] \n",
    "size = len(num)  \n",
    "\n",
    "print(\"Before sorting:\", num)\n",
    "print(\"\\n\")\n",
    "\n",
    "for i in range(0, size):\n",
    "    for j in range(0, size - i - 1):\n",
    "        if num[j] > num[j + 1]:\n",
    "            num[j], num[j + 1] = num[j + 1], num[j]\n",
    "    print(\"After sorting:\", num)"
   ]
  },
  {
   "cell_type": "code",
   "execution_count": 5,
   "id": "4ba886da-7e55-4b56-a0b2-8fdda2b6dc87",
   "metadata": {},
   "outputs": [
    {
     "name": "stdout",
     "output_type": "stream",
     "text": [
      "Before sorting: [6, 5, 2, 8, 9, 4]\n",
      "\n",
      "\n",
      "After sorting: [6, 5, 8, 9, 4, 2]\n",
      "After sorting: [6, 8, 9, 5, 4, 2]\n",
      "After sorting: [8, 9, 6, 5, 4, 2]\n",
      "After sorting: [9, 8, 6, 5, 4, 2]\n",
      "After sorting: [9, 8, 6, 5, 4, 2]\n",
      "After sorting: [9, 8, 6, 5, 4, 2]\n"
     ]
    }
   ],
   "source": [
    "num = [6, 5, 2, 8, 9, 4]  \n",
    "size = len(num)  \n",
    "\n",
    "print(\"Before sorting:\", num)\n",
    "print(\"\\n\")\n",
    "\n",
    "for i in range(0,size):\n",
    "    for j in range(0,size - i - 1):\n",
    "        if num[j] < num[j + 1]:\n",
    "            num[j], num[j + 1] = num[j + 1], num[j]\n",
    "    print(\"After sorting:\", num)"
   ]
  },
  {
   "cell_type": "code",
   "execution_count": 26,
   "id": "d6089d9d-a838-40c2-8ca2-6b42df58d471",
   "metadata": {},
   "outputs": [
    {
     "name": "stdout",
     "output_type": "stream",
     "text": [
      "Before sorting: [10, 20, 30, 20, 10, 0, 40, 70, 20]\n",
      "\n",
      "\n"
     ]
    },
    {
     "ename": "TypeError",
     "evalue": "unhashable type: 'dict'",
     "output_type": "error",
     "traceback": [
      "\u001b[1;31m---------------------------------------------------------------------------\u001b[0m",
      "\u001b[1;31mTypeError\u001b[0m                                 Traceback (most recent call last)",
      "Cell \u001b[1;32mIn[26], line 16\u001b[0m\n\u001b[0;32m     14\u001b[0m num[j], num[j \u001b[38;5;241m+\u001b[39m \u001b[38;5;241m1\u001b[39m] \u001b[38;5;241m=\u001b[39m num[j \u001b[38;5;241m+\u001b[39m \u001b[38;5;241m1\u001b[39m], num[j]\n\u001b[0;32m     15\u001b[0m freq \u001b[38;5;241m+\u001b[39m\u001b[38;5;241m=\u001b[39m \u001b[38;5;241m1\u001b[39m\n\u001b[1;32m---> 16\u001b[0m swapcount\u001b[38;5;241m.\u001b[39mupdate({{num[j]: freq}})\n\u001b[0;32m     17\u001b[0m count \u001b[38;5;241m+\u001b[39m\u001b[38;5;241m=\u001b[39m \u001b[38;5;241m1\u001b[39m\n\u001b[0;32m     18\u001b[0m \u001b[38;5;28mprint\u001b[39m(count)\n",
      "\u001b[1;31mTypeError\u001b[0m: unhashable type: 'dict'"
     ]
    }
   ],
   "source": [
    "num = [10,20,30,20,10,0,40,70,20] \n",
    "size = len(num)  \n",
    "count = 0\n",
    "\n",
    "freq = 0\n",
    "swapcount = {}\n",
    "\n",
    "print(\"Before sorting:\", num)\n",
    "print(\"\\n\")\n",
    "\n",
    "for i in range(0, size):\n",
    "    for j in range(0, size - i - 1):\n",
    "        if num[j] > num[j + 1]:\n",
    "            num[j], num[j + 1] = num[j + 1], num[j]\n",
    "            freq += 1\n",
    "            swapcount.update({{num[j]: freq}})\n",
    "            count += 1\n",
    "            print(count)\n",
    "    swapcount += 1\n",
    "    print(\"After sorting:\", num)\n",
    "\n",
    "print(swapcount)"
   ]
  },
  {
   "cell_type": "code",
   "execution_count": null,
   "id": "9d74adcf-3579-44fc-9e16-2d0e9a7f76ff",
   "metadata": {},
   "outputs": [],
   "source": []
  }
 ],
 "metadata": {
  "kernelspec": {
   "display_name": "Python 3 (ipykernel)",
   "language": "python",
   "name": "python3"
  },
  "language_info": {
   "codemirror_mode": {
    "name": "ipython",
    "version": 3
   },
   "file_extension": ".py",
   "mimetype": "text/x-python",
   "name": "python",
   "nbconvert_exporter": "python",
   "pygments_lexer": "ipython3",
   "version": "3.12.2"
  }
 },
 "nbformat": 4,
 "nbformat_minor": 5
}
